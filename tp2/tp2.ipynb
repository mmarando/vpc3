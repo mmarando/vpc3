{
  "cells": [
    {
      "cell_type": "markdown",
      "metadata": {
        "id": "H3Lug7PmN0re"
      },
      "source": [
        "# Vision Transformer (ViT)\n",
        "\n",
        "El Vision Transformer (ViT), propuesto por Dosovitskiy et al. (2020), utiliza una arquitectura basada en Transformers para tareas de visión por computadora. A diferencia de las CNN, el ViT aplica **Multi-Head Self-Attention (MHSA)** para modelar relaciones globales entre partes de la imagen.\n",
        "\n",
        "## Arquitectura\n",
        "\n",
        "El ViT divide las imágenes en **patches** y las convierte en una secuencia de vectores de características (embeddings), que luego se procesan mediante capas Transformer. A continuación, se aplica el mecanismo de self-attention para modelar las relaciones entre estos patches.\n",
        "\n",
        "- **Embeddings**: Cada parche se aplana y se proyecta en un espacio de mayor dimensión.\n",
        "- **Positional Encoding**: Se agrega un embebido posicional para cada parche, permitiendo que el modelo capture las posiciones espaciales.\n",
        "\n",
        "### ¿Cómo funciona el Self-Attention en ViT?\n",
        "\n",
        "Cada uno de los parches se considera un token similar a las palabras en el procesamiento del lenguaje natural (NLP).\n",
        "En el mecanismo de Self-Attention, cada uno de estos tokens (parches) puede interactuar con los demás tokens. Para hacerlo, el modelo calcula tres vectores para cada token:\n",
        "\n",
        "- **Query:** Representa qué está buscando el token.\n",
        "\n",
        "- **Key:** Representa una descripción de los demás tokens.\n",
        "\n",
        "- **Value:** Es la información que tiene cada token y que podría ser relevante para otros tokens.\n",
        "\n",
        "Luego, se calculan las similitudes entre el *Query* de un token y el *Key* de todos los demás tokens, lo que genera una \"puntuación de atención\". Esta puntuación determina cuánta atención debe prestar un token a otros. El valor *Value* de cada token se pondera según esta puntuación, lo que permite que un token integre información de todo el resto de la imagen.\n",
        "\n",
        "Este mecanismo es lo que permite que cada token (parche) en una imagen entienda no solo lo que está ocurriendo en su área local, sino también pueda considerar qué está sucediendo en otras partes de la imagen.\n",
        "\n",
        "La fórmula utilizada para calcular la atención es:\n",
        "\n",
        "$$\n",
        "\\text{Attention}(Q, K, V) = \\text{softmax}\\left(\\frac{QK^T}{\\sqrt{d_k}}\\right)V\n",
        "$$\n",
        "\n",
        "Donde:\n",
        "- **$Q$ (queries)**, **$K$ (keys)**, y **$V$ (values)** son las proyecciones lineales de los embeddings de los patches.\n",
        "- **$d_k$** es la dimensionalidad de las proyecciones, usada para escalar el producto punto y estabilizar el entrenamiento.\n",
        "\n",
        "Este proceso se aplica en múltiples cabezas, lo que permite al modelo aprender distintas representaciones.\n",
        "\n",
        "El mecanismo de self-attention utiliza las proyecciones:\n",
        "\n",
        "$$Q = XW_Q, \\quad K = XW_K, \\quad V = XW_V$$\n",
        "\n",
        "Donde $X$ es el input y $W_Q$, $W_K$, y $W_V$ son matrices de pesos aprendidos.\n",
        "\n",
        "Después de aplicar el mecanismo de Self-Attention, los tokens se actualizan, ya que ahora tienen información de los demás tokens. Este proceso se repite varias veces en distintas capas de atención, profundizando la interacción entre los parches.\n",
        "\n",
        "Salida Final: Después de aplicar múltiples capas de Self-Attention, el modelo agrupa los tokens procesados para predecir la clase de la imagen o realizar otras tareas de visión.\n",
        "\n",
        "---"
      ]
    },
    {
      "cell_type": "markdown",
      "metadata": {
        "id": "oqoI2OOwN0rm"
      },
      "source": [
        "**Tareas**:\n",
        "1. Implementar la arquitectura de un Vision Transformer\n",
        "2. Ingresar y ajustar los parámetros del modelo\n",
        "3. Probar diferentes técnicas de data augmentation"
      ]
    },
    {
      "cell_type": "code",
      "execution_count": 9,
      "metadata": {
        "colab": {
          "base_uri": "https://localhost:8080/"
        },
        "id": "fX3tA9AbN0rp",
        "outputId": "ac7d29c3-a77d-48bb-daca-5b64cfa73181"
      },
      "outputs": [
        {
          "name": "stdout",
          "output_type": "stream",
          "text": [
            "Dispositivo:  cuda\n",
            "Torch version:  2.6.0+cu124\n"
          ]
        }
      ],
      "source": [
        "from sklearn.metrics import accuracy_score, precision_score, recall_score, f1_score\n",
        "from tqdm import tqdm\n",
        "import numpy as np\n",
        "import pandas as pd\n",
        "import math\n",
        "import os\n",
        "import time\n",
        "import torch\n",
        "from torch import Tensor\n",
        "import torch.nn as nn\n",
        "import torchvision.transforms.functional as TF\n",
        "import matplotlib.pyplot as plt\n",
        "from PIL import Image\n",
        "import torch.optim as optim\n",
        "from torch.optim.lr_scheduler import StepLR\n",
        "import torch.nn.functional as F\n",
        "import torch\n",
        "from torchvision import datasets, transforms\n",
        "import torch._dynamo\n",
        "torch._dynamo.config.suppress_errors = True\n",
        "from trainer import Trainer\n",
        "\n",
        "\n",
        "device = 'cuda' if torch.cuda.is_available() else 'mps' if torch.backends.mps.is_available() else 'cpu'\n",
        "print('Dispositivo: ', device)\n",
        "print('Torch version: ', torch.__version__)\n",
        "\n",
        "# La configuración, carga y preprocesamiento\n",
        "class ConfigPreprocess:\n",
        "    def __init__(self, device: str, img_path: str, img_size: int, patch_size: int):\n",
        "        self.device = device\n",
        "        self.img_path = img_path\n",
        "        self.img_size = img_size\n",
        "        self.patch_size = patch_size\n",
        "        self.test_img = self.load_image()\n",
        "\n",
        "    def load_image(self):\n",
        "        return TF.to_tensor(Image.open(self.img_path).resize((self.img_size, self.img_size))).unsqueeze(0).to(self.device)\n",
        "\n",
        "    def extract_patches(self, image: Tensor) -> Tensor:\n",
        "        patches = image.unfold(1, self.patch_size, self.patch_size).unfold(2, self.patch_size, self.patch_size)\n",
        "        patches = patches.contiguous().view(image.shape[0], -1, self.patch_size, self.patch_size)\n",
        "        return patches\n",
        "\n",
        "\n",
        "class PatchEmbedding(nn.Module):\n",
        "    def __init__(self, img_size: int, patch_size: int, in_channels: int = 3, embed_dim: int = 8):\n",
        "        super(PatchEmbedding, self).__init__()\n",
        "        self.img_size = img_size\n",
        "        self.patch_size = patch_size\n",
        "        self.num_patches = (img_size // patch_size) ** 2\n",
        "        self.proj = nn.Conv2d(in_channels, embed_dim, kernel_size=patch_size, stride=patch_size)\n",
        "\n",
        "    def forward(self, x):\n",
        "        x = self.proj(x)  # (B, embed_dim, H/patch_size, W/patch_size)\n",
        "        x = x.flatten(2)  # (B, embed_dim, num_patches)\n",
        "        x = x.transpose(1, 2)  # (B, num_patches, embed_dim)\n",
        "        return x\n",
        "\n",
        "class PositionalEncodingLearned(nn.Module):\n",
        "    def __init__(self, num_patches, embed_dim):\n",
        "        super(PositionalEncodingLearned, self).__init__()\n",
        "        self.pos_embedding = nn.Parameter(torch.randn(1, num_patches, embed_dim))\n",
        "\n",
        "    def forward(self, x):\n",
        "        return x + self.pos_embedding"
      ]
    },
    {
      "cell_type": "markdown",
      "metadata": {
        "id": "c7kKIK47N0r1"
      },
      "source": [
        "# Transformer Encoder"
      ]
    },
    {
      "cell_type": "code",
      "execution_count": 10,
      "metadata": {
        "id": "viIxsXzTN0r4"
      },
      "outputs": [],
      "source": [
        "class TransformerEncoder(nn.Module):\n",
        "    def __init__(self, embed_dim: int, num_heads: int, ff_dim: int, num_layers: int, dropout=0.1, batch_first=True):\n",
        "        super(TransformerEncoder, self).__init__()\n",
        "        encoder_layer = nn.TransformerEncoderLayer(d_model=embed_dim, nhead=num_heads, dim_feedforward=ff_dim, dropout=dropout, batch_first=batch_first)\n",
        "        self.transformer_encoder = nn.TransformerEncoder(encoder_layer, num_layers=num_layers)\n",
        "\n",
        "    def forward(self, x):\n",
        "        return self.transformer_encoder(x)"
      ]
    },
    {
      "cell_type": "markdown",
      "metadata": {
        "id": "Ohpj1J6yN0r-"
      },
      "source": [
        "# Vision Transformer\n",
        "\n",
        "Variantes estandar de ViT:\n",
        "\n",
        "| Layers | Hidden size (D) | MLP size | Heads | Params |\n",
        "| ------ | --------------- | -------- | ----- | ------ |\n",
        "| 12 | 768  | 3072 | 12 | 86M  |\n",
        "| 24 | 1024 | 4096 | 16 | 307M |\n",
        "| 32 | 1280 | 5120 | 16 | 632M |"
      ]
    },
    {
      "cell_type": "code",
      "execution_count": 11,
      "metadata": {
        "id": "TYBje8Pa5st-"
      },
      "outputs": [],
      "source": [
        "class VisionTransformer(nn.Module):\n",
        "    def __init__(self, img_size, patch_size, embed_dim, num_heads, ff_dim, num_layers,\n",
        "                 num_classes=10, dropout=0.1, batch_first=True):\n",
        "        super(VisionTransformer, self).__init__()\n",
        "\n",
        "        # Patch embedding\n",
        "        self.patch_embedding = PatchEmbedding(img_size, patch_size, 3, embed_dim)\n",
        "\n",
        "        # Positional encoding\n",
        "        num_patches = (img_size//patch_size)**2\n",
        "        self.positional_encoding = PositionalEncodingLearned(num_patches, embed_dim)\n",
        "\n",
        "        # Transformer encoder\n",
        "        self.transformer = TransformerEncoder(embed_dim, num_heads, ff_dim, num_layers, dropout, batch_first)\n",
        "\n",
        "        # Normalization\n",
        "        self.norm = nn.LayerNorm(embed_dim)\n",
        "\n",
        "        # Classification\n",
        "        self.ff = nn.Linear(embed_dim, num_classes)\n",
        "\n",
        "\n",
        "    def forward(self, x):\n",
        "        # Extract patches and embed them\n",
        "        x = self.patch_embedding(x)  # Shape: (B, num_patches, embed_dim)\n",
        "\n",
        "        # Add positional encoding\n",
        "        x = self.positional_encoding(x)  # Shape: (B, num_patches, embed_dim)\n",
        "\n",
        "        # Pass through transformer\n",
        "        x = self.transformer(x)  # Shape: (B, num_patches, embed_dim)\n",
        "\n",
        "        # Normalize and classify\n",
        "        x = x[:, 0]  # Shape: (B, embed_dim)\n",
        "        x = self.norm(x)\n",
        "        x = self.ff(x)\n",
        "\n",
        "        return x"
      ]
    },
    {
      "cell_type": "markdown",
      "metadata": {
        "id": "lOcY_I7TN0sD"
      },
      "source": [
        "# Dataset: CIFAR10"
      ]
    },
    {
      "cell_type": "code",
      "execution_count": 12,
      "metadata": {
        "id": "ROGSvUshN0sF"
      },
      "outputs": [],
      "source": [
        "# Define transformations for the input data\n",
        "transform_train = transforms.Compose([\n",
        "    transforms.RandomHorizontalFlip(),\n",
        "    transforms.RandomResizedCrop((32, 32), scale=(0.8, 1.0), ratio=(0.9, 1.1)),\n",
        "    transforms.ToTensor(),\n",
        "    transforms.Normalize([0.49139968, 0.48215841, 0.44653091], [0.24703223, 0.24348513, 0.26158784]),\n",
        "])\n",
        "\n",
        "transform_test = transforms.Compose([\n",
        "    transforms.ToTensor(),\n",
        "    transforms.Normalize([0.49139968, 0.48215841, 0.44653091], [0.24703223, 0.24348513, 0.26158784]),\n",
        "])\n",
        "\n",
        "# Load your dataset\n",
        "train_dataset = datasets.CIFAR10(root='./data', train=True, download=True, transform=transform_train)\n",
        "train_loader = torch.utils.data.DataLoader(train_dataset, batch_size=512, shuffle=True)\n",
        "\n",
        "test_dataset = datasets.CIFAR10(root='./data', train=False, download=True, transform=transform_test)\n",
        "test_loader = torch.utils.data.DataLoader(test_dataset, batch_size=512, shuffle=False)"
      ]
    },
    {
      "cell_type": "code",
      "execution_count": 13,
      "metadata": {
        "colab": {
          "base_uri": "https://localhost:8080/"
        },
        "id": "vR5kG-cWN0sL",
        "outputId": "a1637ce1-5e8a-4571-c2a7-42fec6488049"
      },
      "outputs": [
        {
          "name": "stdout",
          "output_type": "stream",
          "text": [
            "Tamaño de carpeta: 340.19 MB\n"
          ]
        }
      ],
      "source": [
        "def get_folder_size(folder_path :os.PathLike) -> str:\n",
        "    total_size = 0\n",
        "    for dirpath, _, filenames in os.walk(folder_path):\n",
        "        for filename in filenames:\n",
        "            file_path = os.path.join(dirpath, filename)\n",
        "\n",
        "            if not os.path.islink(file_path):\n",
        "                total_size += os.path.getsize(file_path)\n",
        "\n",
        "    if total_size == 0:\n",
        "        return \"0B\"\n",
        "    size_name = (\"B\", \"KB\", \"MB\", \"GB\", \"TB\")\n",
        "    i = int(math.floor(math.log(total_size, 1024)))\n",
        "    p = math.pow(1024, i)\n",
        "    s = round(total_size / p, 2)\n",
        "    return f\"{s} {size_name[i]}\"\n",
        "\n",
        "folder_path = './data'\n",
        "size_in_bytes = get_folder_size(folder_path)\n",
        "print(f\"Tamaño de carpeta: {size_in_bytes}\")"
      ]
    },
    {
      "cell_type": "markdown",
      "metadata": {
        "id": "WYwpzNBsN0sO"
      },
      "source": [
        "# Modelo"
      ]
    },
    {
      "cell_type": "code",
      "execution_count": 14,
      "metadata": {
        "id": "qUpyNk9tN0sR"
      },
      "outputs": [],
      "source": [
        "num_epochs = 10\n",
        "\n",
        "model = VisionTransformer(\n",
        "    img_size=32,           # Tamaño de imagen (CIFAR-10 es 32x32)\n",
        "    patch_size=8,          # Tamaño de cada parche\n",
        "    embed_dim=64,          # Dimensión de los embeddings\n",
        "    num_heads=4,           # Cabezas de atención\n",
        "    ff_dim=256,            # Dimensión de la red feed-forward (4x embed_dim)\n",
        "    num_layers=4,          # Capas Transformer\n",
        "    dropout=0.1,           # Regularización\n",
        "    batch_first=True       # Formato (batch, seq_len, embed_dim)\n",
        ").to(device)\n",
        "\n",
        "# Definimos funciones de loss y optimizador\n",
        "criterion = nn.CrossEntropyLoss()\n",
        "optimizer = optim.AdamW(model.parameters(), lr=3e-4)\n",
        "scheduler = StepLR(optimizer, step_size=2, gamma=0.1)\n",
        "\n",
        "model = model.to(device)\n",
        "\n",
        "try:\n",
        "    model = torch.compile(model)\n",
        "except Exception as e:\n",
        "    print(\"Se produjo error durante la compilación:\", e)"
      ]
    },
    {
      "cell_type": "code",
      "execution_count": 15,
      "metadata": {
        "colab": {
          "base_uri": "https://localhost:8080/"
        },
        "id": "kpjBeAxZN0sV",
        "outputId": "5a7a9855-272f-45de-80b0-e29152f69ab7"
      },
      "outputs": [
        {
          "name": "stdout",
          "output_type": "stream",
          "text": [
            "Número de parámetros: 0.21 millones\n",
            "\n"
          ]
        }
      ],
      "source": [
        "def count_parameters(model: nn.Module) -> int:\n",
        "    \"\"\"\n",
        "    Count the number of trainable parameters in a PyTorch model.\n",
        "\n",
        "    Args:\n",
        "        model (nn.Module): The PyTorch model.\n",
        "\n",
        "    Returns:\n",
        "        int: The total number of trainable parameters.\n",
        "    \"\"\"\n",
        "    return sum(p.numel() for p in model.parameters() if p.requires_grad) / 1_000_000\n",
        "\n",
        "torch.cuda.empty_cache()\n",
        "n_params = count_parameters(model)\n",
        "print(f\"Número de parámetros: {n_params:.2f} millones\\n\")"
      ]
    },
    {
      "cell_type": "markdown",
      "metadata": {
        "id": "IpCVfDguJLVi"
      },
      "source": [
        "# Entrenamiento"
      ]
    },
    {
      "cell_type": "code",
      "execution_count": 16,
      "metadata": {
        "colab": {
          "base_uri": "https://localhost:8080/"
        },
        "id": "3En2Pv9rN0sY",
        "outputId": "dbf039a9-2d00-46b2-92f4-b62d5438649b"
      },
      "outputs": [
        {
          "name": "stderr",
          "output_type": "stream",
          "text": [
            "\r  0%|          | 0/98 [00:00<?, ?it/s]/usr/local/lib/python3.11/dist-packages/torch/_inductor/compile_fx.py:1948: UserWarning: Tesla T4 does not support bfloat16 compilation natively, skipping\n",
            "  warnings.warn(\n",
            "/usr/local/lib/python3.11/dist-packages/torch/_inductor/compile_fx.py:1948: UserWarning: Tesla T4 does not support bfloat16 compilation natively, skipping\n",
            "  warnings.warn(\n",
            "/usr/local/lib/python3.11/dist-packages/torch/_inductor/compile_fx.py:1948: UserWarning: Tesla T4 does not support bfloat16 compilation natively, skipping\n",
            "  warnings.warn(\n",
            "/usr/local/lib/python3.11/dist-packages/torch/_inductor/compile_fx.py:1948: UserWarning: Tesla T4 does not support bfloat16 compilation natively, skipping\n",
            "  warnings.warn(\n",
            "loss 1.80271: 100%|██████████| 98/98 [00:47<00:00,  2.07it/s]\n",
            "loss 1.68426: 100%|██████████| 98/98 [00:33<00:00,  2.94it/s]\n",
            "loss 1.55307: 100%|██████████| 98/98 [00:34<00:00,  2.88it/s]\n",
            "loss 1.63953: 100%|██████████| 98/98 [00:34<00:00,  2.88it/s]\n",
            "loss 1.43509: 100%|██████████| 98/98 [00:34<00:00,  2.86it/s]\n",
            "loss 1.53830: 100%|██████████| 98/98 [00:34<00:00,  2.81it/s]\n",
            "loss 1.54771: 100%|██████████| 98/98 [00:33<00:00,  2.93it/s]\n",
            "loss 1.43921: 100%|██████████| 98/98 [00:34<00:00,  2.82it/s]\n",
            "loss 1.33406: 100%|██████████| 98/98 [00:34<00:00,  2.86it/s]\n",
            "loss 1.36280: 100%|██████████| 98/98 [00:33<00:00,  2.89it/s]"
          ]
        },
        {
          "name": "stdout",
          "output_type": "stream",
          "text": [
            "\n",
            "Entrenamiento finalizado en 354.44 segundos.\n"
          ]
        },
        {
          "name": "stderr",
          "output_type": "stream",
          "text": [
            "\n"
          ]
        }
      ],
      "source": [
        "trainer = Trainer(model, train_loader, test_loader, criterion, optimizer, device)\n",
        "\n",
        "start_time = time.time()\n",
        "for epoch in range(num_epochs):\n",
        "    trainer.train_model(use_amp=True)\n",
        "    # scheduler.step()\n",
        "training_time_seconds = time.time() - start_time\n",
        "print(f\"\\nEntrenamiento finalizado en {training_time_seconds:.2f} segundos.\")"
      ]
    },
    {
      "cell_type": "markdown",
      "metadata": {
        "id": "qPqtq5_cJRdN"
      },
      "source": [
        "# Evaluación"
      ]
    },
    {
      "cell_type": "code",
      "execution_count": 17,
      "metadata": {
        "colab": {
          "base_uri": "https://localhost:8080/"
        },
        "id": "NnswEuSeN0sZ",
        "outputId": "20df28cb-32dd-4bc9-fdbc-db8a1d55fbf1"
      },
      "outputs": [
        {
          "name": "stdout",
          "output_type": "stream",
          "text": [
            "Evaluación:\n"
          ]
        },
        {
          "name": "stderr",
          "output_type": "stream",
          "text": [
            "100%|██████████| 20/20 [00:03<00:00,  6.36it/s]"
          ]
        },
        {
          "name": "stdout",
          "output_type": "stream",
          "text": [
            "\n",
            "Accuracy: 0.5202\n",
            "Precision: 0.5209\n",
            "Recall: 0.5202\n",
            "F1 score: 0.5149\n",
            "\n"
          ]
        },
        {
          "name": "stderr",
          "output_type": "stream",
          "text": [
            "\n"
          ]
        }
      ],
      "source": [
        "def evaluate_model(model, data_loader):\n",
        "    y_true = []\n",
        "    y_pred = []\n",
        "    print(f\"Evaluación:\")\n",
        "    model.eval()\n",
        "    with torch.no_grad():\n",
        "        for images, labels in tqdm(data_loader):\n",
        "            images = images.to(device).float()\n",
        "            outputs = model(images)\n",
        "            _, preds = torch.max(outputs, 1)\n",
        "            y_true.extend(labels.cpu().numpy())\n",
        "            y_pred.extend(preds.cpu().numpy())\n",
        "\n",
        "    accuracy = accuracy_score(y_true, y_pred)\n",
        "    precision = precision_score(y_true, y_pred, average='macro')\n",
        "    recall = recall_score(y_true, y_pred, average='macro')\n",
        "    f1 = f1_score(y_true, y_pred, average='macro')\n",
        "\n",
        "    print()\n",
        "    print(f\"Accuracy: {accuracy:.4f}\")\n",
        "    print(f\"Precision: {precision:.4f}\")\n",
        "    print(f\"Recall: {recall:.4f}\")\n",
        "    print(f\"F1 score: {f1:.4f}\")\n",
        "    print()\n",
        "\n",
        "    return accuracy, precision, recall, f1\n",
        "\n",
        "# Evaluar el modelo\n",
        "accuracy, precision, recall, f1 = evaluate_model(model, test_loader)"
      ]
    },
    {
      "cell_type": "markdown",
      "metadata": {
        "id": "Hrl44mfbJU8f"
      },
      "source": [
        "# Visualización"
      ]
    },
    {
      "cell_type": "markdown",
      "metadata": {
        "id": "E2HaOXngJo6t"
      },
      "source": [
        "## Visualización de las clasificaciones"
      ]
    },
    {
      "cell_type": "code",
      "execution_count": 18,
      "metadata": {
        "colab": {
          "base_uri": "https://localhost:8080/",
          "height": 1000
        },
        "id": "AQgSWjB3N0se",
        "outputId": "61f21321-c58e-49ef-db7b-a29afbc4919d"
      },
      "outputs": [
        {
          "name": "stderr",
          "output_type": "stream",
          "text": [
            "  0%|          | 0/20 [00:00<?, ?it/s]\n"
          ]
        },
        {
          "data": {
            "image/png": "[encoded data removed]",
            "text/plain": [
              "<Figure size 1200x1200 with 16 Axes>"
            ]
          },
          "metadata": {},
          "output_type": "display_data"
        }
      ],
      "source": [
        "def visualize_classification(model, data_loader, class_names, num_images=16):\n",
        "    model.eval()\n",
        "    images_so_far = 0\n",
        "    fig = plt.figure(figsize=(12, 12))\n",
        "\n",
        "    with torch.no_grad():\n",
        "        for i, (inputs, labels) in enumerate(tqdm(data_loader)):\n",
        "            inputs = inputs.to(device)\n",
        "            outputs = model(inputs)\n",
        "            _, preds = torch.max(outputs, 1)\n",
        "\n",
        "            for j in range(inputs.size()[0]):\n",
        "                images_so_far += 1\n",
        "                ax = plt.subplot(num_images // 4, 4, images_so_far)\n",
        "                ax.axis('off')\n",
        "                ax.set_title(f'True: {class_names[labels[j]]}\\nPred: {class_names[preds[j]]}', fontsize=8)\n",
        "                img = inputs[j].cpu().numpy().transpose((1, 2, 0))\n",
        "                img = img * [0.229, 0.224, 0.225] + [0.485, 0.456, 0.406]  # Unnormalize\n",
        "                img = np.clip(img, 0, 1)\n",
        "                ax.imshow(img)\n",
        "\n",
        "                if images_so_far == num_images:\n",
        "                    return\n",
        "\n",
        "class_names = ['airplane', 'automobile', 'bird', 'cat', 'deer', 'dog', 'frog', 'horse', 'ship', 'truck']\n",
        "visualize_classification(model, test_loader, class_names, num_images=16)\n",
        "plt.show()"
      ]
    },
    {
      "cell_type": "markdown",
      "metadata": {
        "id": "_lvMF5q3JiFi"
      },
      "source": [
        "## Visualización de las transformaciones"
      ]
    },
    {
      "cell_type": "code",
      "execution_count": 19,
      "metadata": {
        "colab": {
          "base_uri": "https://localhost:8080/",
          "height": 879
        },
        "id": "Uz6Re9k59x49",
        "outputId": "505b8522-126c-41d8-c53e-d61bbed86a17"
      },
      "outputs": [
        {
          "name": "stdout",
          "output_type": "stream",
          "text": [
            "Sample 1:\n"
          ]
        },
        {
          "data": {
            "image/png": "[encoded data removed]",
            "text/plain": [
              "<Figure size 1000x300 with 5 Axes>"
            ]
          },
          "metadata": {},
          "output_type": "display_data"
        },
        {
          "name": "stdout",
          "output_type": "stream",
          "text": [
            "Sample 2:\n"
          ]
        },
        {
          "data": {
            "image/png": "[encoded data removed]",
            "text/plain": [
              "<Figure size 1000x300 with 5 Axes>"
            ]
          },
          "metadata": {},
          "output_type": "display_data"
        },
        {
          "name": "stdout",
          "output_type": "stream",
          "text": [
            "Sample 3:\n"
          ]
        },
        {
          "data": {
            "image/png": "[encoded data removed]",
            "text/plain": [
              "<Figure size 1000x300 with 5 Axes>"
            ]
          },
          "metadata": {},
          "output_type": "display_data"
        }
      ],
      "source": [
        "# Defino algunas transformaciones para visualizar\n",
        "original_dataset = datasets.CIFAR10(root='./data', train=True, download=True, transform=transforms.ToTensor())\n",
        "original_loader = torch.utils.data.DataLoader(original_dataset, batch_size=5, shuffle=True)\n",
        "images, labels = next(iter(original_loader))\n",
        "\n",
        "transformations = {\n",
        "    'Original': transforms.Compose([\n",
        "        transforms.ToTensor()\n",
        "    ]),\n",
        "    'Horizontal Flip': transforms.Compose([\n",
        "        transforms.ToPILImage(),\n",
        "        transforms.RandomHorizontalFlip(p=1.0),\n",
        "        transforms.ToTensor()\n",
        "    ]),\n",
        "    'Random Crop': transforms.Compose([\n",
        "        transforms.ToPILImage(),\n",
        "        transforms.RandomCrop(32, padding=4, padding_mode='reflect'),\n",
        "        transforms.ToTensor()\n",
        "    ]),\n",
        "    'Color Jitter': transforms.Compose([\n",
        "        transforms.ToPILImage(),\n",
        "        transforms.ColorJitter(brightness=0.1, contrast=0.1, saturation=0.1),\n",
        "        transforms.ToTensor()\n",
        "    ]),\n",
        "    'All Combined (except normalize)': transforms.Compose([\n",
        "        transforms.ToPILImage(),\n",
        "        transforms.RandomHorizontalFlip(p=1.0),\n",
        "        transforms.RandomCrop(32, padding=4, padding_mode='reflect'),\n",
        "        transforms.ColorJitter(brightness=0.1, contrast=0.1, saturation=0.1),\n",
        "        transforms.ToTensor(),\n",
        "    ])\n",
        "}\n",
        "\n",
        "# Clases CIFAR-10\n",
        "class_names = ['airplane', 'automobile', 'bird', 'cat', 'deer', 'dog', 'frog', 'horse', 'ship', 'truck']\n",
        "\n",
        "def visualize_transforms(image, label, transformations):\n",
        "    fig, axes = plt.subplots(1, len(transformations), figsize=(10, 3))\n",
        "    fig.suptitle(f'Data Augmentation Visualization - Class: {class_names[label]}', fontsize=12)\n",
        "\n",
        "    for i, (name, transform) in enumerate(transformations.items()):\n",
        "        if name == 'Original':\n",
        "            img_transformed = image\n",
        "        else:\n",
        "            img_transformed = transform(image)\n",
        "\n",
        "        # Convert to numpy for display\n",
        "        img_display = img_transformed.permute(1, 2, 0).numpy()\n",
        "\n",
        "        # Clip values to valid range\n",
        "        img_display = np.clip(img_display, 0, 1)\n",
        "\n",
        "        axes[i].imshow(img_display)\n",
        "        axes[i].set_title(name, fontsize=8)\n",
        "        axes[i].axis('off')\n",
        "\n",
        "    plt.tight_layout()\n",
        "    plt.subplots_adjust(top=0.85)\n",
        "    plt.show()\n",
        "\n",
        "# Visualizamos las transformaciones para algunas imagenes\n",
        "num_samples = 3\n",
        "for i in range(num_samples):\n",
        "    sample_image = images[i]\n",
        "    sample_label = labels[i].item()\n",
        "    print(f\"Sample {i+1}:\")\n",
        "    visualize_transforms(sample_image, sample_label, transformations)"
      ]
    },
    {
      "cell_type": "markdown",
      "metadata": {
        "id": "DISV1E8zK0n9"
      },
      "source": [
        "# Ajuste de parámetros del modelo"
      ]
    },
    {
      "cell_type": "code",
      "execution_count": 20,
      "metadata": {
        "id": "1NVb0TpZdn9N"
      },
      "outputs": [],
      "source": [
        "def run_experiment(name, patch_size, embed_dim, num_heads, num_layers):\n",
        "    # Modelo\n",
        "    model = VisionTransformer(\n",
        "        img_size=32,           # Tamaño de imagen (CIFAR-10 es 32x32)\n",
        "        patch_size=patch_size, # Tamaño de cada parche\n",
        "        embed_dim=embed_dim,   # Dimensión de los embeddings\n",
        "        num_heads=num_heads,   # Cabezas de atención\n",
        "        ff_dim=embed_dim*4,    # Dimensión de la red feed-forward (4x embed_dim)\n",
        "        num_layers=num_layers, # Capas Transformer\n",
        "        dropout=0.1,           # Regularización\n",
        "        batch_first=True       # Formato (batch, seq_len, embed_dim)\n",
        "    ).to(device)\n",
        "\n",
        "    print(f\"Configuración:\\n patch_size: {patch_size}\\n embed_dim: {embed_dim}\\n num_heads: {num_heads}\\n num_layers: {num_layers}\\n\")\n",
        "    criterion = nn.CrossEntropyLoss()\n",
        "    optimizer = optim.AdamW(model.parameters(), lr=3e-4)\n",
        "    scheduler = StepLR(optimizer, step_size=2, gamma=0.1)\n",
        "    model = model.to(device)\n",
        "    model = torch.compile(model)\n",
        "    torch.cuda.empty_cache()\n",
        "    n_params = count_parameters(model)\n",
        "    print(f\"Número de parámetros: {n_params:.2f} millones\\n\")\n",
        "\n",
        "    # Entrenamiento\n",
        "    print(f\"Entrenamiento:\")\n",
        "    trainer = Trainer(model, train_loader, test_loader, criterion, optimizer, device)\n",
        "    start_time = time.time()\n",
        "    for epoch in range(num_epochs):\n",
        "        trainer.train_model(use_amp=True)\n",
        "    training_time_seconds = time.time() - start_time\n",
        "    print(f\"Entrenamiento finalizado en {training_time_seconds:.2f} segundos\\n\")\n",
        "\n",
        "    # Evaluacion\n",
        "    accuracy, precision, recall, f1 = evaluate_model(model, test_loader)\n",
        "\n",
        "    print(\"***************************\")\n",
        "\n",
        "    # Retornar los resultados\n",
        "    return {\n",
        "        \"name\": name,\n",
        "        \"patch_size\": patch_size,\n",
        "        \"embed_dim\": embed_dim,\n",
        "        \"num_heads\": num_heads,\n",
        "        \"num_layers\": num_layers,\n",
        "        \"n_params\": n_params,\n",
        "        \"training_time_s\": round(training_time_seconds, 2),\n",
        "        \"accuracy\": round(accuracy, 4),\n",
        "        \"precision\": round(precision, 4),\n",
        "        \"recall\": round(recall, 4),\n",
        "        \"f1_score\": round(f1, 4)\n",
        "    }"
      ]
    },
    {
      "cell_type": "code",
      "execution_count": 21,
      "metadata": {
        "colab": {
          "base_uri": "https://localhost:8080/"
        },
        "id": "w1T3Png3SlPo",
        "outputId": "57b4dc03-f2ac-4073-d111-a57b55bbac29"
      },
      "outputs": [
        {
          "name": "stdout",
          "output_type": "stream",
          "text": [
            "Configuración:\n",
            " patch_size: 8\n",
            " embed_dim: 64\n",
            " num_heads: 4\n",
            " num_layers: 4\n",
            "\n",
            "Número de parámetros: 0.21 millones\n",
            "\n",
            "Entrenamiento:\n"
          ]
        },
        {
          "name": "stderr",
          "output_type": "stream",
          "text": [
            "loss 1.81576: 100%|██████████| 98/98 [00:34<00:00,  2.83it/s]\n",
            "loss 1.70359: 100%|██████████| 98/98 [00:34<00:00,  2.84it/s]\n",
            "loss 1.54896: 100%|██████████| 98/98 [00:33<00:00,  2.89it/s]\n",
            "loss 1.46209: 100%|██████████| 98/98 [00:34<00:00,  2.81it/s]\n",
            "loss 1.48158: 100%|██████████| 98/98 [00:34<00:00,  2.82it/s]\n",
            "loss 1.37799: 100%|██████████| 98/98 [00:36<00:00,  2.66it/s]\n",
            "loss 1.49646: 100%|██████████| 98/98 [00:35<00:00,  2.76it/s]\n",
            "loss 1.39955: 100%|██████████| 98/98 [00:33<00:00,  2.89it/s]\n",
            "loss 1.31256: 100%|██████████| 98/98 [00:34<00:00,  2.85it/s]\n",
            "loss 1.25217: 100%|██████████| 98/98 [00:34<00:00,  2.85it/s]\n"
          ]
        },
        {
          "name": "stdout",
          "output_type": "stream",
          "text": [
            "Entrenamiento finalizado en 347.54 segundos\n",
            "\n",
            "Evaluación:\n"
          ]
        },
        {
          "name": "stderr",
          "output_type": "stream",
          "text": [
            "100%|██████████| 20/20 [00:02<00:00,  7.95it/s]"
          ]
        },
        {
          "name": "stdout",
          "output_type": "stream",
          "text": [
            "\n",
            "Accuracy: 0.5363\n",
            "Precision: 0.5320\n",
            "Recall: 0.5363\n",
            "F1 score: 0.5323\n",
            "\n",
            "***************************\n"
          ]
        },
        {
          "name": "stderr",
          "output_type": "stream",
          "text": [
            "\n"
          ]
        }
      ],
      "source": [
        "# Valores iniciales\n",
        "patch_size = 8\n",
        "embed_dim = 64\n",
        "num_heads = 4\n",
        "num_layers = 4\n",
        "results_v0 = run_experiment(\"inicial\", patch_size=patch_size, embed_dim=embed_dim, num_heads=num_heads, num_layers=num_layers)"
      ]
    },
    {
      "cell_type": "code",
      "execution_count": 22,
      "metadata": {
        "colab": {
          "base_uri": "https://localhost:8080/"
        },
        "id": "33DSt9UbK8S7",
        "outputId": "f7674fee-abca-4b52-c553-30c1250764e3"
      },
      "outputs": [
        {
          "name": "stdout",
          "output_type": "stream",
          "text": [
            "Configuración:\n",
            " patch_size: 8\n",
            " embed_dim: 64\n",
            " num_heads: 4\n",
            " num_layers: 8\n",
            "\n",
            "Número de parámetros: 0.41 millones\n",
            "\n",
            "Entrenamiento:\n"
          ]
        },
        {
          "name": "stderr",
          "output_type": "stream",
          "text": [
            "loss 1.84689: 100%|██████████| 98/98 [00:34<00:00,  2.83it/s]\n",
            "loss 1.66124: 100%|██████████| 98/98 [00:33<00:00,  2.88it/s]\n",
            "loss 1.62456: 100%|██████████| 98/98 [00:35<00:00,  2.79it/s]\n",
            "loss 1.53011: 100%|██████████| 98/98 [00:34<00:00,  2.82it/s]\n",
            "loss 1.47042: 100%|██████████| 98/98 [00:34<00:00,  2.86it/s]\n",
            "loss 1.41359: 100%|██████████| 98/98 [00:37<00:00,  2.59it/s]\n",
            "loss 1.42354: 100%|██████████| 98/98 [00:33<00:00,  2.88it/s]\n",
            "loss 1.37301: 100%|██████████| 98/98 [00:36<00:00,  2.70it/s]\n",
            "loss 1.40548: 100%|██████████| 98/98 [00:35<00:00,  2.77it/s]\n",
            "loss 1.31062: 100%|██████████| 98/98 [00:34<00:00,  2.87it/s]\n"
          ]
        },
        {
          "name": "stdout",
          "output_type": "stream",
          "text": [
            "Entrenamiento finalizado en 350.51 segundos\n",
            "\n",
            "Evaluación:\n"
          ]
        },
        {
          "name": "stderr",
          "output_type": "stream",
          "text": [
            "100%|██████████| 20/20 [00:03<00:00,  6.37it/s]"
          ]
        },
        {
          "name": "stdout",
          "output_type": "stream",
          "text": [
            "\n",
            "Accuracy: 0.5331\n",
            "Precision: 0.5290\n",
            "Recall: 0.5331\n",
            "F1 score: 0.5281\n",
            "\n",
            "***************************\n"
          ]
        },
        {
          "name": "stderr",
          "output_type": "stream",
          "text": [
            "\n"
          ]
        }
      ],
      "source": [
        "#@title 1) Más capas\n",
        "patch_size = 8\n",
        "embed_dim = 64\n",
        "num_heads = 4\n",
        "num_layers = 8\n",
        "results_v1 = run_experiment(\"más capas\", patch_size=patch_size, embed_dim=embed_dim, num_heads=num_heads, num_layers=num_layers)"
      ]
    },
    {
      "cell_type": "code",
      "execution_count": 23,
      "metadata": {
        "colab": {
          "base_uri": "https://localhost:8080/"
        },
        "id": "86oU1XDue7LF",
        "outputId": "5b7a7391-8e5e-4944-a491-3a89301dd2e9"
      },
      "outputs": [
        {
          "name": "stdout",
          "output_type": "stream",
          "text": [
            "Configuración:\n",
            " patch_size: 8\n",
            " embed_dim: 128\n",
            " num_heads: 4\n",
            " num_layers: 4\n",
            "\n",
            "Número de parámetros: 0.82 millones\n",
            "\n",
            "Entrenamiento:\n"
          ]
        },
        {
          "name": "stderr",
          "output_type": "stream",
          "text": [
            "loss 1.71086: 100%|██████████| 98/98 [00:35<00:00,  2.75it/s]\n",
            "loss 1.57725: 100%|██████████| 98/98 [00:34<00:00,  2.82it/s]\n",
            "loss 1.44918: 100%|██████████| 98/98 [00:33<00:00,  2.90it/s]\n",
            "loss 1.47800: 100%|██████████| 98/98 [00:33<00:00,  2.89it/s]\n",
            "loss 1.45048: 100%|██████████| 98/98 [00:34<00:00,  2.83it/s]\n",
            "loss 1.36650: 100%|██████████| 98/98 [00:33<00:00,  2.96it/s]\n",
            "loss 1.35749: 100%|██████████| 98/98 [00:33<00:00,  2.90it/s]\n",
            "loss 1.32560: 100%|██████████| 98/98 [00:35<00:00,  2.73it/s]\n",
            "loss 1.30451: 100%|██████████| 98/98 [00:34<00:00,  2.82it/s]\n",
            "loss 1.18686: 100%|██████████| 98/98 [00:35<00:00,  2.74it/s]\n"
          ]
        },
        {
          "name": "stdout",
          "output_type": "stream",
          "text": [
            "Entrenamiento finalizado en 346.16 segundos\n",
            "\n",
            "Evaluación:\n"
          ]
        },
        {
          "name": "stderr",
          "output_type": "stream",
          "text": [
            "100%|██████████| 20/20 [00:02<00:00,  7.03it/s]"
          ]
        },
        {
          "name": "stdout",
          "output_type": "stream",
          "text": [
            "\n",
            "Accuracy: 0.5573\n",
            "Precision: 0.5644\n",
            "Recall: 0.5573\n",
            "F1 score: 0.5489\n",
            "\n",
            "***************************\n"
          ]
        },
        {
          "name": "stderr",
          "output_type": "stream",
          "text": [
            "\n"
          ]
        }
      ],
      "source": [
        "#@title 2) Mayor dimensión de embeddings\n",
        "patch_size = 8\n",
        "embed_dim = 128\n",
        "num_heads = 4\n",
        "num_layers = 4\n",
        "results_v2 = run_experiment(\"mayor embed dim\", patch_size=patch_size, embed_dim=embed_dim, num_heads=num_heads, num_layers=num_layers)"
      ]
    },
    {
      "cell_type": "code",
      "execution_count": 24,
      "metadata": {
        "colab": {
          "base_uri": "https://localhost:8080/"
        },
        "id": "ObJBxZBzeCkK",
        "outputId": "2d606d5d-87ba-4a87-e2c9-0867992ed25b"
      },
      "outputs": [
        {
          "name": "stdout",
          "output_type": "stream",
          "text": [
            "Configuración:\n",
            " patch_size: 8\n",
            " embed_dim: 64\n",
            " num_heads: 8\n",
            " num_layers: 4\n",
            "\n",
            "Número de parámetros: 0.21 millones\n",
            "\n",
            "Entrenamiento:\n"
          ]
        },
        {
          "name": "stderr",
          "output_type": "stream",
          "text": [
            "loss 1.76281: 100%|██████████| 98/98 [00:34<00:00,  2.84it/s]\n",
            "loss 1.73562: 100%|██████████| 98/98 [00:34<00:00,  2.85it/s]\n",
            "loss 1.53124: 100%|██████████| 98/98 [00:33<00:00,  2.88it/s]\n",
            "loss 1.57395: 100%|██████████| 98/98 [00:34<00:00,  2.85it/s]\n",
            "loss 1.49152: 100%|██████████| 98/98 [00:35<00:00,  2.75it/s]\n",
            "loss 1.42510: 100%|██████████| 98/98 [00:34<00:00,  2.81it/s]\n",
            "loss 1.40428: 100%|██████████| 98/98 [00:33<00:00,  2.89it/s]\n",
            "loss 1.39993: 100%|██████████| 98/98 [00:34<00:00,  2.88it/s]\n",
            "loss 1.37478: 100%|██████████| 98/98 [00:34<00:00,  2.87it/s]\n",
            "loss 1.41459: 100%|██████████| 98/98 [00:33<00:00,  2.90it/s]\n"
          ]
        },
        {
          "name": "stdout",
          "output_type": "stream",
          "text": [
            "Entrenamiento finalizado en 343.72 segundos\n",
            "\n",
            "Evaluación:\n"
          ]
        },
        {
          "name": "stderr",
          "output_type": "stream",
          "text": [
            "100%|██████████| 20/20 [00:03<00:00,  6.57it/s]"
          ]
        },
        {
          "name": "stdout",
          "output_type": "stream",
          "text": [
            "\n",
            "Accuracy: 0.5266\n",
            "Precision: 0.5202\n",
            "Recall: 0.5266\n",
            "F1 score: 0.5184\n",
            "\n",
            "***************************\n"
          ]
        },
        {
          "name": "stderr",
          "output_type": "stream",
          "text": [
            "\n"
          ]
        }
      ],
      "source": [
        "#@title 3) Mayor cantidad de cabezas de atención\n",
        "patch_size = 8\n",
        "embed_dim = 64\n",
        "num_heads = 8\n",
        "num_layers = 4\n",
        "results_v3 = run_experiment(\"más heads\", patch_size=patch_size, embed_dim=embed_dim, num_heads=num_heads, num_layers=num_layers)"
      ]
    },
    {
      "cell_type": "code",
      "execution_count": 30,
      "metadata": {
        "colab": {
          "base_uri": "https://localhost:8080/"
        },
        "id": "1_Gx64Y1fSpk",
        "outputId": "a1669df9-cc4e-4ca6-cd87-8babb8581eec"
      },
      "outputs": [
        {
          "name": "stdout",
          "output_type": "stream",
          "text": [
            "Configuración:\n",
            " patch_size: 4\n",
            " embed_dim: 64\n",
            " num_heads: 4\n",
            " num_layers: 4\n",
            "\n",
            "Número de parámetros: 0.21 millones\n",
            "\n",
            "Entrenamiento:\n"
          ]
        },
        {
          "name": "stderr",
          "output_type": "stream",
          "text": [
            "loss 1.91647: 100%|██████████| 98/98 [01:11<00:00,  1.36it/s]\n",
            "loss 1.77030: 100%|██████████| 98/98 [01:13<00:00,  1.34it/s]\n",
            "loss 1.79185: 100%|██████████| 98/98 [01:15<00:00,  1.30it/s]\n",
            "loss 1.64249: 100%|██████████| 98/98 [01:02<00:00,  1.57it/s]\n",
            "loss 1.56889: 100%|██████████| 98/98 [01:01<00:00,  1.59it/s]\n",
            "loss 1.58776: 100%|██████████| 98/98 [01:03<00:00,  1.54it/s]\n",
            "loss 1.46745: 100%|██████████| 98/98 [01:01<00:00,  1.59it/s]\n",
            "loss 1.47059: 100%|██████████| 98/98 [01:00<00:00,  1.61it/s]\n",
            "loss 1.47327: 100%|██████████| 98/98 [01:00<00:00,  1.61it/s]\n",
            "loss 1.40533: 100%|██████████| 98/98 [01:00<00:00,  1.62it/s]\n"
          ]
        },
        {
          "name": "stdout",
          "output_type": "stream",
          "text": [
            "Entrenamiento finalizado en 651.62 segundos\n",
            "\n",
            "Evaluación:\n"
          ]
        },
        {
          "name": "stderr",
          "output_type": "stream",
          "text": [
            "100%|██████████| 20/20 [00:02<00:00,  6.87it/s]"
          ]
        },
        {
          "name": "stdout",
          "output_type": "stream",
          "text": [
            "\n",
            "Accuracy: 0.4953\n",
            "Precision: 0.4940\n",
            "Recall: 0.4953\n",
            "F1 score: 0.4826\n",
            "\n",
            "***************************\n"
          ]
        },
        {
          "name": "stderr",
          "output_type": "stream",
          "text": [
            "\n"
          ]
        }
      ],
      "source": [
        "#@title 4) Menor patch size\n",
        "patch_size = 4\n",
        "embed_dim = 64\n",
        "num_heads = 4\n",
        "num_layers = 4\n",
        "results_v4 = run_experiment(\"menor patch size\", patch_size=patch_size, embed_dim=embed_dim, num_heads=num_heads, num_layers=num_layers)"
      ]
    },
    {
      "cell_type": "markdown",
      "metadata": {
        "id": "WehcLj4KKSeQ"
      },
      "source": [
        "# Pruebas con otras transformaciones de data augmentation"
      ]
    },
    {
      "cell_type": "code",
      "execution_count": 26,
      "metadata": {
        "colab": {
          "base_uri": "https://localhost:8080/"
        },
        "id": "E0GTMxOBKlkz",
        "outputId": "0c911843-8443-4596-c9ef-9c5a00c7ee36"
      },
      "outputs": [
        {
          "name": "stdout",
          "output_type": "stream",
          "text": [
            "Configuración:\n",
            " patch_size: 8\n",
            " embed_dim: 128\n",
            " num_heads: 4\n",
            " num_layers: 4\n",
            "\n",
            "Número de parámetros: 0.82 millones\n",
            "\n",
            "Entrenamiento:\n"
          ]
        },
        {
          "name": "stderr",
          "output_type": "stream",
          "text": [
            "loss 1.78831: 100%|██████████| 98/98 [00:59<00:00,  1.66it/s]\n",
            "loss 1.71673: 100%|██████████| 98/98 [00:57<00:00,  1.69it/s]\n",
            "loss 1.60493: 100%|██████████| 98/98 [01:00<00:00,  1.62it/s]\n",
            "loss 1.42382: 100%|██████████| 98/98 [01:03<00:00,  1.54it/s]\n",
            "loss 1.38742: 100%|██████████| 98/98 [01:00<00:00,  1.63it/s]\n",
            "loss 1.38873: 100%|██████████| 98/98 [00:59<00:00,  1.65it/s]\n",
            "loss 1.40771: 100%|██████████| 98/98 [01:02<00:00,  1.57it/s]\n",
            "loss 1.34953: 100%|██████████| 98/98 [00:58<00:00,  1.68it/s]\n",
            "loss 1.26962: 100%|██████████| 98/98 [00:57<00:00,  1.69it/s]\n",
            "loss 1.33153: 100%|██████████| 98/98 [00:59<00:00,  1.65it/s]\n"
          ]
        },
        {
          "name": "stdout",
          "output_type": "stream",
          "text": [
            "Entrenamiento finalizado en 598.65 segundos\n",
            "\n",
            "Evaluación:\n"
          ]
        },
        {
          "name": "stderr",
          "output_type": "stream",
          "text": [
            "100%|██████████| 20/20 [00:02<00:00,  7.38it/s]"
          ]
        },
        {
          "name": "stdout",
          "output_type": "stream",
          "text": [
            "\n",
            "Accuracy: 0.5469\n",
            "Precision: 0.5470\n",
            "Recall: 0.5469\n",
            "F1 score: 0.5431\n",
            "\n",
            "***************************\n"
          ]
        },
        {
          "name": "stderr",
          "output_type": "stream",
          "text": [
            "\n"
          ]
        }
      ],
      "source": [
        "transform_train = transforms.Compose([\n",
        "    transforms.RandomHorizontalFlip(),\n",
        "    transforms.RandomResizedCrop((32, 32), scale=(0.8, 1.0), ratio=(0.9, 1.1)),\n",
        "    transforms.RandomRotation(degrees=15),\n",
        "    transforms.ColorJitter(brightness=0.1, contrast=0.1, saturation=0.1),\n",
        "    transforms.ToTensor(),\n",
        "    transforms.Normalize([0.49139968, 0.48215841, 0.44653091], [0.24703223, 0.24348513, 0.26158784]),\n",
        "    transforms.RandomErasing(p=0.1, scale=(0.02, 0.15), ratio=(0.3, 3.3), value=0, inplace=False)\n",
        "])\n",
        "\n",
        "transform_test = transforms.Compose([\n",
        "    transforms.ToTensor(),\n",
        "    transforms.Normalize([0.49139968, 0.48215841, 0.44653091], [0.24703223, 0.24348513, 0.26158784]),\n",
        "])\n",
        "\n",
        "train_dataset = datasets.CIFAR10(root='./data', train=True, download=True, transform=transform_train)\n",
        "train_loader = torch.utils.data.DataLoader(train_dataset, batch_size=512, shuffle=True)\n",
        "\n",
        "test_dataset = datasets.CIFAR10(root='./data', train=False, download=True, transform=transform_test)\n",
        "test_loader = torch.utils.data.DataLoader(test_dataset, batch_size=512, shuffle=False)\n",
        "\n",
        "patch_size = 8\n",
        "embed_dim = 128\n",
        "num_heads = 4\n",
        "num_layers = 4\n",
        "results_v5 = run_experiment(\"v2 con data aug\", patch_size=patch_size, embed_dim=embed_dim, num_heads=num_heads, num_layers=num_layers)"
      ]
    },
    {
      "cell_type": "markdown",
      "metadata": {
        "id": "TwCZFZTJUOMB"
      },
      "source": [
        "# Resultados"
      ]
    },
    {
      "cell_type": "code",
      "execution_count": 31,
      "metadata": {
        "colab": {
          "base_uri": "https://localhost:8080/",
          "height": 269
        },
        "id": "6kw5r9aXUP9r",
        "outputId": "7dde53a5-6e5a-46b8-87bd-a7f250ab4016"
      },
      "outputs": [
        {
          "data": {
            "application/vnd.google.colaboratory.intrinsic+json": {
              "summary": "{\n  \"name\": \"df_results\",\n  \"rows\": 6,\n  \"fields\": [\n    {\n      \"column\": \"name\",\n      \"properties\": {\n        \"dtype\": \"string\",\n        \"num_unique_values\": 6,\n        \"samples\": [\n          \"inicial\",\n          \"m\\u00e1s capas\",\n          \"v2 con data aug\"\n        ],\n        \"semantic_type\": \"\",\n        \"description\": \"\"\n      }\n    },\n    {\n      \"column\": \"patch_size\",\n      \"properties\": {\n        \"dtype\": \"number\",\n        \"std\": 1,\n        \"min\": 4,\n        \"max\": 8,\n        \"num_unique_values\": 2,\n        \"samples\": [\n          4,\n          8\n        ],\n        \"semantic_type\": \"\",\n        \"description\": \"\"\n      }\n    },\n    {\n      \"column\": \"embed_dim\",\n      \"properties\": {\n        \"dtype\": \"number\",\n        \"std\": 33,\n        \"min\": 64,\n        \"max\": 128,\n        \"num_unique_values\": 2,\n        \"samples\": [\n          128,\n          64\n        ],\n        \"semantic_type\": \"\",\n        \"description\": \"\"\n      }\n    },\n    {\n      \"column\": \"num_heads\",\n      \"properties\": {\n        \"dtype\": \"number\",\n        \"std\": 1,\n        \"min\": 4,\n        \"max\": 8,\n        \"num_unique_values\": 2,\n        \"samples\": [\n          8,\n          4\n        ],\n        \"semantic_type\": \"\",\n        \"description\": \"\"\n      }\n    },\n    {\n      \"column\": \"num_layers\",\n      \"properties\": {\n        \"dtype\": \"number\",\n        \"std\": 1,\n        \"min\": 4,\n        \"max\": 8,\n        \"num_unique_values\": 2,\n        \"samples\": [\n          8,\n          4\n        ],\n        \"semantic_type\": \"\",\n        \"description\": \"\"\n      }\n    },\n    {\n      \"column\": \"n_params\",\n      \"properties\": {\n        \"dtype\": \"number\",\n        \"std\": 0.29901107030387125,\n        \"min\": 0.207946,\n        \"max\": 0.821386,\n        \"num_unique_values\": 4,\n        \"samples\": [\n          0.414026,\n          0.207946\n        ],\n        \"semantic_type\": \"\",\n        \"description\": \"\"\n      }\n    },\n    {\n      \"column\": \"training_time_s\",\n      \"properties\": {\n        \"dtype\": \"number\",\n        \"std\": 144.62738509701404,\n        \"min\": 343.72,\n        \"max\": 651.62,\n        \"num_unique_values\": 6,\n        \"samples\": [\n          347.54,\n          350.51\n        ],\n        \"semantic_type\": \"\",\n        \"description\": \"\"\n      }\n    },\n    {\n      \"column\": \"accuracy\",\n      \"properties\": {\n        \"dtype\": \"number\",\n        \"std\": 0.021240566533561836,\n        \"min\": 0.4953,\n        \"max\": 0.5573,\n        \"num_unique_values\": 6,\n        \"samples\": [\n          0.5363,\n          0.5331\n        ],\n        \"semantic_type\": \"\",\n        \"description\": \"\"\n      }\n    },\n    {\n      \"column\": \"precision\",\n      \"properties\": {\n        \"dtype\": \"number\",\n        \"std\": 0.023925467602536016,\n        \"min\": 0.494,\n        \"max\": 0.5644,\n        \"num_unique_values\": 6,\n        \"samples\": [\n          0.532,\n          0.529\n        ],\n        \"semantic_type\": \"\",\n        \"description\": \"\"\n      }\n    },\n    {\n      \"column\": \"recall\",\n      \"properties\": {\n        \"dtype\": \"number\",\n        \"std\": 0.021240566533561836,\n        \"min\": 0.4953,\n        \"max\": 0.5573,\n        \"num_unique_values\": 6,\n        \"samples\": [\n          0.5363,\n          0.5331\n        ],\n        \"semantic_type\": \"\",\n        \"description\": \"\"\n      }\n    },\n    {\n      \"column\": \"f1_score\",\n      \"properties\": {\n        \"dtype\": \"number\",\n        \"std\": 0.02366902335684064,\n        \"min\": 0.4826,\n        \"max\": 0.5489,\n        \"num_unique_values\": 6,\n        \"samples\": [\n          0.5323,\n          0.5281\n        ],\n        \"semantic_type\": \"\",\n        \"description\": \"\"\n      }\n    }\n  ]\n}",
              "type": "dataframe",
              "variable_name": "df_results"
            },
            "text/html": [
              "\n",
              "  <div id=\"df-8ca34a3a-f9e3-4f25-bd47-6a18c53c373f\" class=\"colab-df-container\">\n",
              "    <div>\n",
              "<style scoped>\n",
              "    .dataframe tbody tr th:only-of-type {\n",
              "        vertical-align: middle;\n",
              "    }\n",
              "\n",
              "    .dataframe tbody tr th {\n",
              "        vertical-align: top;\n",
              "    }\n",
              "\n",
              "    .dataframe thead th {\n",
              "        text-align: right;\n",
              "    }\n",
              "</style>\n",
              "<table border=\"1\" class=\"dataframe\">\n",
              "  <thead>\n",
              "    <tr style=\"text-align: right;\">\n",
              "      <th></th>\n",
              "      <th>patch_size</th>\n",
              "      <th>embed_dim</th>\n",
              "      <th>num_heads</th>\n",
              "      <th>num_layers</th>\n",
              "      <th>n_params</th>\n",
              "      <th>training_time_s</th>\n",
              "      <th>accuracy</th>\n",
              "      <th>precision</th>\n",
              "      <th>recall</th>\n",
              "      <th>f1_score</th>\n",
              "    </tr>\n",
              "    <tr>\n",
              "      <th>name</th>\n",
              "      <th></th>\n",
              "      <th></th>\n",
              "      <th></th>\n",
              "      <th></th>\n",
              "      <th></th>\n",
              "      <th></th>\n",
              "      <th></th>\n",
              "      <th></th>\n",
              "      <th></th>\n",
              "      <th></th>\n",
              "    </tr>\n",
              "  </thead>\n",
              "  <tbody>\n",
              "    <tr>\n",
              "      <th>inicial</th>\n",
              "      <td>8</td>\n",
              "      <td>64</td>\n",
              "      <td>4</td>\n",
              "      <td>4</td>\n",
              "      <td>0.214090</td>\n",
              "      <td>347.54</td>\n",
              "      <td>0.5363</td>\n",
              "      <td>0.5320</td>\n",
              "      <td>0.5363</td>\n",
              "      <td>0.5323</td>\n",
              "    </tr>\n",
              "    <tr>\n",
              "      <th>más capas</th>\n",
              "      <td>8</td>\n",
              "      <td>64</td>\n",
              "      <td>4</td>\n",
              "      <td>8</td>\n",
              "      <td>0.414026</td>\n",
              "      <td>350.51</td>\n",
              "      <td>0.5331</td>\n",
              "      <td>0.5290</td>\n",
              "      <td>0.5331</td>\n",
              "      <td>0.5281</td>\n",
              "    </tr>\n",
              "    <tr>\n",
              "      <th>mayor embed dim</th>\n",
              "      <td>8</td>\n",
              "      <td>128</td>\n",
              "      <td>4</td>\n",
              "      <td>4</td>\n",
              "      <td>0.821386</td>\n",
              "      <td>346.16</td>\n",
              "      <td>0.5573</td>\n",
              "      <td>0.5644</td>\n",
              "      <td>0.5573</td>\n",
              "      <td>0.5489</td>\n",
              "    </tr>\n",
              "    <tr>\n",
              "      <th>más heads</th>\n",
              "      <td>8</td>\n",
              "      <td>64</td>\n",
              "      <td>8</td>\n",
              "      <td>4</td>\n",
              "      <td>0.214090</td>\n",
              "      <td>343.72</td>\n",
              "      <td>0.5266</td>\n",
              "      <td>0.5202</td>\n",
              "      <td>0.5266</td>\n",
              "      <td>0.5184</td>\n",
              "    </tr>\n",
              "    <tr>\n",
              "      <th>menor patch size</th>\n",
              "      <td>4</td>\n",
              "      <td>64</td>\n",
              "      <td>4</td>\n",
              "      <td>4</td>\n",
              "      <td>0.207946</td>\n",
              "      <td>651.62</td>\n",
              "      <td>0.4953</td>\n",
              "      <td>0.4940</td>\n",
              "      <td>0.4953</td>\n",
              "      <td>0.4826</td>\n",
              "    </tr>\n",
              "    <tr>\n",
              "      <th>v2 con data aug</th>\n",
              "      <td>8</td>\n",
              "      <td>128</td>\n",
              "      <td>4</td>\n",
              "      <td>4</td>\n",
              "      <td>0.821386</td>\n",
              "      <td>598.65</td>\n",
              "      <td>0.5469</td>\n",
              "      <td>0.5470</td>\n",
              "      <td>0.5469</td>\n",
              "      <td>0.5431</td>\n",
              "    </tr>\n",
              "  </tbody>\n",
              "</table>\n",
              "</div>\n",
              "    <div class=\"colab-df-buttons\">\n",
              "\n",
              "  <div class=\"colab-df-container\">\n",
              "    <button class=\"colab-df-convert\" onclick=\"convertToInteractive('df-8ca34a3a-f9e3-4f25-bd47-6a18c53c373f')\"\n",
              "            title=\"Convert this dataframe to an interactive table.\"\n",
              "            style=\"display:none;\">\n",
              "\n",
              "  <svg xmlns=\"http://www.w3.org/2000/svg\" height=\"24px\" viewBox=\"0 -960 960 960\">\n",
              "    <path d=\"M120-120v-720h720v720H120Zm60-500h600v-160H180v160Zm220 220h160v-160H400v160Zm0 220h160v-160H400v160ZM180-400h160v-160H180v160Zm440 0h160v-160H620v160ZM180-180h160v-160H180v160Zm440 0h160v-160H620v160Z\"/>\n",
              "  </svg>\n",
              "    </button>\n",
              "\n",
              "  <style>\n",
              "    .colab-df-container {\n",
              "      display:flex;\n",
              "      gap: 12px;\n",
              "    }\n",
              "\n",
              "    .colab-df-convert {\n",
              "      background-color: #E8F0FE;\n",
              "      border: none;\n",
              "      border-radius: 50%;\n",
              "      cursor: pointer;\n",
              "      display: none;\n",
              "      fill: #1967D2;\n",
              "      height: 32px;\n",
              "      padding: 0 0 0 0;\n",
              "      width: 32px;\n",
              "    }\n",
              "\n",
              "    .colab-df-convert:hover {\n",
              "      background-color: #E2EBFA;\n",
              "      box-shadow: 0px 1px 2px rgba(60, 64, 67, 0.3), 0px 1px 3px 1px rgba(60, 64, 67, 0.15);\n",
              "      fill: #174EA6;\n",
              "    }\n",
              "\n",
              "    .colab-df-buttons div {\n",
              "      margin-bottom: 4px;\n",
              "    }\n",
              "\n",
              "    [theme=dark] .colab-df-convert {\n",
              "      background-color: #3B4455;\n",
              "      fill: #D2E3FC;\n",
              "    }\n",
              "\n",
              "    [theme=dark] .colab-df-convert:hover {\n",
              "      background-color: #434B5C;\n",
              "      box-shadow: 0px 1px 3px 1px rgba(0, 0, 0, 0.15);\n",
              "      filter: drop-shadow(0px 1px 2px rgba(0, 0, 0, 0.3));\n",
              "      fill: #FFFFFF;\n",
              "    }\n",
              "  </style>\n",
              "\n",
              "    <script>\n",
              "      const buttonEl =\n",
              "        document.querySelector('#df-8ca34a3a-f9e3-4f25-bd47-6a18c53c373f button.colab-df-convert');\n",
              "      buttonEl.style.display =\n",
              "        google.colab.kernel.accessAllowed ? 'block' : 'none';\n",
              "\n",
              "      async function convertToInteractive(key) {\n",
              "        const element = document.querySelector('#df-8ca34a3a-f9e3-4f25-bd47-6a18c53c373f');\n",
              "        const dataTable =\n",
              "          await google.colab.kernel.invokeFunction('convertToInteractive',\n",
              "                                                    [key], {});\n",
              "        if (!dataTable) return;\n",
              "\n",
              "        const docLinkHtml = 'Like what you see? Visit the ' +\n",
              "          '<a target=\"_blank\" href=https://colab.research.google.com/notebooks/data_table.ipynb>data table notebook</a>'\n",
              "          + ' to learn more about interactive tables.';\n",
              "        element.innerHTML = '';\n",
              "        dataTable['output_type'] = 'display_data';\n",
              "        await google.colab.output.renderOutput(dataTable, element);\n",
              "        const docLink = document.createElement('div');\n",
              "        docLink.innerHTML = docLinkHtml;\n",
              "        element.appendChild(docLink);\n",
              "      }\n",
              "    </script>\n",
              "  </div>\n",
              "\n",
              "\n",
              "    <div id=\"df-43d63341-fb02-4bd5-b121-18011f9a7d84\">\n",
              "      <button class=\"colab-df-quickchart\" onclick=\"quickchart('df-43d63341-fb02-4bd5-b121-18011f9a7d84')\"\n",
              "                title=\"Suggest charts\"\n",
              "                style=\"display:none;\">\n",
              "\n",
              "<svg xmlns=\"http://www.w3.org/2000/svg\" height=\"24px\"viewBox=\"0 0 24 24\"\n",
              "     width=\"24px\">\n",
              "    <g>\n",
              "        <path d=\"M19 3H5c-1.1 0-2 .9-2 2v14c0 1.1.9 2 2 2h14c1.1 0 2-.9 2-2V5c0-1.1-.9-2-2-2zM9 17H7v-7h2v7zm4 0h-2V7h2v10zm4 0h-2v-4h2v4z\"/>\n",
              "    </g>\n",
              "</svg>\n",
              "      </button>\n",
              "\n",
              "<style>\n",
              "  .colab-df-quickchart {\n",
              "      --bg-color: #E8F0FE;\n",
              "      --fill-color: #1967D2;\n",
              "      --hover-bg-color: #E2EBFA;\n",
              "      --hover-fill-color: #174EA6;\n",
              "      --disabled-fill-color: #AAA;\n",
              "      --disabled-bg-color: #DDD;\n",
              "  }\n",
              "\n",
              "  [theme=dark] .colab-df-quickchart {\n",
              "      --bg-color: #3B4455;\n",
              "      --fill-color: #D2E3FC;\n",
              "      --hover-bg-color: #434B5C;\n",
              "      --hover-fill-color: #FFFFFF;\n",
              "      --disabled-bg-color: #3B4455;\n",
              "      --disabled-fill-color: #666;\n",
              "  }\n",
              "\n",
              "  .colab-df-quickchart {\n",
              "    background-color: var(--bg-color);\n",
              "    border: none;\n",
              "    border-radius: 50%;\n",
              "    cursor: pointer;\n",
              "    display: none;\n",
              "    fill: var(--fill-color);\n",
              "    height: 32px;\n",
              "    padding: 0;\n",
              "    width: 32px;\n",
              "  }\n",
              "\n",
              "  .colab-df-quickchart:hover {\n",
              "    background-color: var(--hover-bg-color);\n",
              "    box-shadow: 0 1px 2px rgba(60, 64, 67, 0.3), 0 1px 3px 1px rgba(60, 64, 67, 0.15);\n",
              "    fill: var(--button-hover-fill-color);\n",
              "  }\n",
              "\n",
              "  .colab-df-quickchart-complete:disabled,\n",
              "  .colab-df-quickchart-complete:disabled:hover {\n",
              "    background-color: var(--disabled-bg-color);\n",
              "    fill: var(--disabled-fill-color);\n",
              "    box-shadow: none;\n",
              "  }\n",
              "\n",
              "  .colab-df-spinner {\n",
              "    border: 2px solid var(--fill-color);\n",
              "    border-color: transparent;\n",
              "    border-bottom-color: var(--fill-color);\n",
              "    animation:\n",
              "      spin 1s steps(1) infinite;\n",
              "  }\n",
              "\n",
              "  @keyframes spin {\n",
              "    0% {\n",
              "      border-color: transparent;\n",
              "      border-bottom-color: var(--fill-color);\n",
              "      border-left-color: var(--fill-color);\n",
              "    }\n",
              "    20% {\n",
              "      border-color: transparent;\n",
              "      border-left-color: var(--fill-color);\n",
              "      border-top-color: var(--fill-color);\n",
              "    }\n",
              "    30% {\n",
              "      border-color: transparent;\n",
              "      border-left-color: var(--fill-color);\n",
              "      border-top-color: var(--fill-color);\n",
              "      border-right-color: var(--fill-color);\n",
              "    }\n",
              "    40% {\n",
              "      border-color: transparent;\n",
              "      border-right-color: var(--fill-color);\n",
              "      border-top-color: var(--fill-color);\n",
              "    }\n",
              "    60% {\n",
              "      border-color: transparent;\n",
              "      border-right-color: var(--fill-color);\n",
              "    }\n",
              "    80% {\n",
              "      border-color: transparent;\n",
              "      border-right-color: var(--fill-color);\n",
              "      border-bottom-color: var(--fill-color);\n",
              "    }\n",
              "    90% {\n",
              "      border-color: transparent;\n",
              "      border-bottom-color: var(--fill-color);\n",
              "    }\n",
              "  }\n",
              "</style>\n",
              "\n",
              "      <script>\n",
              "        async function quickchart(key) {\n",
              "          const quickchartButtonEl =\n",
              "            document.querySelector('#' + key + ' button');\n",
              "          quickchartButtonEl.disabled = true;  // To prevent multiple clicks.\n",
              "          quickchartButtonEl.classList.add('colab-df-spinner');\n",
              "          try {\n",
              "            const charts = await google.colab.kernel.invokeFunction(\n",
              "                'suggestCharts', [key], {});\n",
              "          } catch (error) {\n",
              "            console.error('Error during call to suggestCharts:', error);\n",
              "          }\n",
              "          quickchartButtonEl.classList.remove('colab-df-spinner');\n",
              "          quickchartButtonEl.classList.add('colab-df-quickchart-complete');\n",
              "        }\n",
              "        (() => {\n",
              "          let quickchartButtonEl =\n",
              "            document.querySelector('#df-43d63341-fb02-4bd5-b121-18011f9a7d84 button');\n",
              "          quickchartButtonEl.style.display =\n",
              "            google.colab.kernel.accessAllowed ? 'block' : 'none';\n",
              "        })();\n",
              "      </script>\n",
              "    </div>\n",
              "    </div>\n",
              "  </div>\n"
            ],
            "text/plain": [
              "                  patch_size  embed_dim  num_heads  num_layers  n_params  \\\n",
              "name                                                                       \n",
              "inicial                    8         64          4           4  0.214090   \n",
              "más capas                  8         64          4           8  0.414026   \n",
              "mayor embed dim            8        128          4           4  0.821386   \n",
              "más heads                  8         64          8           4  0.214090   \n",
              "menor patch size           4         64          4           4  0.207946   \n",
              "v2 con data aug            8        128          4           4  0.821386   \n",
              "\n",
              "                  training_time_s  accuracy  precision  recall  f1_score  \n",
              "name                                                                      \n",
              "inicial                    347.54    0.5363     0.5320  0.5363    0.5323  \n",
              "más capas                  350.51    0.5331     0.5290  0.5331    0.5281  \n",
              "mayor embed dim            346.16    0.5573     0.5644  0.5573    0.5489  \n",
              "más heads                  343.72    0.5266     0.5202  0.5266    0.5184  \n",
              "menor patch size           651.62    0.4953     0.4940  0.4953    0.4826  \n",
              "v2 con data aug            598.65    0.5469     0.5470  0.5469    0.5431  "
            ]
          },
          "metadata": {},
          "output_type": "display_data"
        }
      ],
      "source": [
        "results = [results_v0, results_v1, results_v2, results_v3, results_v4, results_v5]\n",
        "df_results = pd.DataFrame(results)\n",
        "df_results = df_results.set_index('name')\n",
        "display(df_results)"
      ]
    },
    {
      "cell_type": "markdown",
      "metadata": {
        "id": "Ij2tA7KkKm9A"
      },
      "source": [
        "# Conclusiones\n",
        "- La mejor accuracy (55%) es un buen primer paso para un ViT chico (0.8M parámetros) entrenado desde cero en CIFAR-10 con entrenamiento limitado (10 épocas). \n",
        "- En los experimentos realizados aumentar la dimensión de los embeddings fue el cambio más beneficioso, logrando la mejor accuracy y f1_score sin un costo excesivo en tiempo de entrenamiento.\n",
        "- Aumentar la cantidad de capas y de cabezas de atención no mejoró el rendimiento.\n",
        "- Reducir el patch size a 4 fue contraproducente, tanto en métricas como en tiempo de entrenamiento.\n",
        "- Las transformaciones nuevas que se usaron data augmentation no mejoraron los resultados de la mejor configuración y aumentó el tiempo de entrenamiento."
      ]
    },
    {
      "cell_type": "markdown",
      "metadata": {},
      "source": [
        "# Trabajo futuro\n",
        "- Experimentar con modelos más grandes.\n",
        "- Experimentar con más épocas de entrenamiento.\n",
        "- Realizar una búsqueda exhaustiva de hiperparámetros.\n",
        "- Experimentar con otras técnicas y combinaciones de data augmentation."
      ]
    }
  ],
  "metadata": {
    "accelerator": "GPU",
    "colab": {
      "gpuType": "T4",
      "provenance": []
    },
    "kernelspec": {
      "display_name": "Python 3",
      "name": "python3"
    },
    "language_info": {
      "codemirror_mode": {
        "name": "ipython",
        "version": 3
      },
      "file_extension": ".py",
      "mimetype": "text/x-python",
      "name": "python",
      "nbconvert_exporter": "python",
      "pygments_lexer": "ipython3",
      "version": "3.12.3"
    }
  },
  "nbformat": 4,
  "nbformat_minor": 0
}
